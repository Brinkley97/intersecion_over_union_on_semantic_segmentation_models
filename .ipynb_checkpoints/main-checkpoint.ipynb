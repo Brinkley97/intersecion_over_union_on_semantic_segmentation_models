{
 "cells": [
  {
   "cell_type": "markdown",
   "id": "bbd9c8ac-92a0-4d65-88f5-8b9423c5a053",
   "metadata": {},
   "source": [
    "# IOU\n",
    "- [Brinkley97/PixelLib model GitHub Repo](https://github.com/Brinkley97/sem_seg_pxLib_ade20k/blob/main/ssForImg.ipynb)"
   ]
  },
  {
   "cell_type": "code",
   "execution_count": 1,
   "id": "2f3cbb70-8096-4578-8227-b170d62e72e9",
   "metadata": {},
   "outputs": [],
   "source": [
    "import os\n",
    "import numpy as np\n",
    "from PIL import Image"
   ]
  },
  {
   "cell_type": "markdown",
   "id": "00b34605-6372-4e93-b835-d76f833db63e",
   "metadata": {},
   "source": [
    "## Load Semantic Segmetation Images"
   ]
  },
  {
   "cell_type": "code",
   "execution_count": 2,
   "id": "f03eabfe-cf3b-4aac-abfd-3924ece132e4",
   "metadata": {},
   "outputs": [],
   "source": [
    "ground_truth_color_map = {\n",
    "    'void': (0, 0, 0),\n",
    "    'dirt': (108, 64, 20),\n",
    "    'sand': (255, 229, 204),\n",
    "    'grass': (0, 102, 0),\n",
    "    'tree': (0, 255, 0),\n",
    "    'pole': (0,153, 153),\n",
    "    'water': (0, 128, 255),\n",
    "    'sky': (0, 0, 255),\n",
    "    'vehicle': (255, 255, 0),\n",
    "    'container/generic-object': (255, 0, 127),\n",
    "    'asphalt': (64, 64, 64),\n",
    "    'gravel': (255, 128, 0),\n",
    "    'building': (255, 0, 0),\n",
    "    'mulch': (153, 76, 0),\n",
    "    'rock-bed': (102, 102, 0),\n",
    "    'log': (102, 0, 0),\n",
    "    'bicycle': (0, 255, 128),\n",
    "    'person': (204, 153, 255),\n",
    "    'fence': (102, 0, 204),\n",
    "    'bush': (255, 153, 204),\n",
    "    'sign': (0, 102, 102),\n",
    "    'rock': (153, 204, 255),\n",
    "    'bridge': (102, 255, 255),\n",
    "    'concrete': (101, 101, 11),\n",
    "    'picnic-table': (114, 85, 47)\n",
    "    \n",
    "}"
   ]
  },
  {
   "cell_type": "code",
   "execution_count": null,
   "id": "096e6a34-780c-4704-b5cf-4c4d59338401",
   "metadata": {},
   "outputs": [],
   "source": [
    "# for key, value in ground_truth_color_map.items():\n",
    "#     print(key, \" :: \", value)"
   ]
  },
  {
   "cell_type": "code",
   "execution_count": null,
   "id": "c8b213d4-04ea-4101-8197-4111cbbb676a",
   "metadata": {},
   "outputs": [],
   "source": [
    "rgb_values = list(ground_truth_color_map.values())\n",
    "# rgb_values"
   ]
  },
  {
   "cell_type": "code",
   "execution_count": 3,
   "id": "1b8f3ef3-1cbe-4b0a-b33b-08919afb1f8b",
   "metadata": {},
   "outputs": [],
   "source": [
    "path_to_images = \"/Users/brinkley97/Documents/development/catalyst_robotics/all_zip_files/rural_off_road/RUGD_sample-data/annotations/\"\n",
    "\n",
    "# directory of images\n",
    "images = os.listdir(path_to_images)"
   ]
  },
  {
   "cell_type": "code",
   "execution_count": 12,
   "id": "a78803d8-3e08-4b1c-8ddb-8ba638eebc7d",
   "metadata": {},
   "outputs": [
    {
     "name": "stdout",
     "output_type": "stream",
     "text": [
      "/Users/brinkley97/Documents/development/catalyst_robotics/all_zip_files/rural_off_road/RUGD_sample-data/annotations/trail-6_00001.png\n"
     ]
    }
   ],
   "source": [
    "image = path_to_images + \"trail-6_00001.png\"\n",
    "print(image)"
   ]
  },
  {
   "cell_type": "code",
   "execution_count": 13,
   "id": "0f9a413e-a30d-4df0-8e63-7fb1a12f08fe",
   "metadata": {},
   "outputs": [],
   "source": [
    "def objs_inside_img(image, ground_truth_color_map):\n",
    "    '''Determine what objects are in the image\n",
    "    \n",
    "    Arguments:\n",
    "    image -- string\n",
    "    ground_truth_color_map -- dictionary\n",
    "    \n",
    "    Return:\n",
    "    list of objects that are in the image\n",
    "    \n",
    "    '''\n",
    "    \n",
    "    obj_in_image = []\n",
    "    rgb_for_image = [rgb for rgb in image.getdata()]\n",
    "        \n",
    "    for name_of_object, rgb_for_object in ground_truth_color_map.items():\n",
    "        match = rgb_for_object in rgb_for_image\n",
    "        if match == True:\n",
    "            # print(True)\n",
    "            obj_in_image.append(name_of_object)\n",
    "            obj_in_image.append(rgb_for_object)\n",
    "    \n",
    "    return obj_in_image"
   ]
  },
  {
   "cell_type": "code",
   "execution_count": 22,
   "id": "b12c29be-11ca-47ca-98b6-838c79ac3c2f",
   "metadata": {},
   "outputs": [],
   "source": [
    "def load_images(image):\n",
    "    \n",
    "    \n",
    "    open_image = Image.open(image)\n",
    "    # print(open_image)\n",
    "    objs_in_img = objs_inside_img(open_image, ground_truth_color_map)\n",
    "    print(objs_in_img)\n",
    "    \n",
    "    # get size of array for these px -- size of grass' array in open_image\n",
    "    for obj_in_img in range(len(objs_in_img)):\n",
    "        obj = objs_in_img[obj_in_img]\n",
    "        print(obj)\n",
    "    \n",
    "    "
   ]
  },
  {
   "cell_type": "code",
   "execution_count": 23,
   "id": "35808bf5-a601-4c67-9149-a68ec8cd7baa",
   "metadata": {},
   "outputs": [
    {
     "name": "stdout",
     "output_type": "stream",
     "text": [
      "['grass', (0, 102, 0), 'tree', (0, 255, 0), 'sky', (0, 0, 255), 'gravel', (255, 128, 0), 'mulch', (153, 76, 0), 'log', (102, 0, 0)]\n",
      "grass\n",
      "(0, 102, 0)\n",
      "tree\n",
      "(0, 255, 0)\n",
      "sky\n",
      "(0, 0, 255)\n",
      "gravel\n",
      "(255, 128, 0)\n",
      "mulch\n",
      "(153, 76, 0)\n",
      "log\n",
      "(102, 0, 0)\n"
     ]
    }
   ],
   "source": [
    "load_images(image)"
   ]
  },
  {
   "cell_type": "code",
   "execution_count": null,
   "id": "20f5a76f-6d0a-481d-bcbb-d284daf12f75",
   "metadata": {},
   "outputs": [],
   "source": [
    "# for index_of_key, key in enumerate(objects):\n",
    "#         print(index_of_key, key)"
   ]
  },
  {
   "cell_type": "markdown",
   "id": "bb6015d0-0208-4288-8e32-1fa4d2499a3d",
   "metadata": {},
   "source": [
    "## Multiple images below"
   ]
  },
  {
   "cell_type": "code",
   "execution_count": null,
   "id": "8f696baa-fb1c-4ce4-8166-8d3fc3a9224e",
   "metadata": {},
   "outputs": [],
   "source": [
    "# def load_images(ground_truth_color_map):\n",
    "#     objects = list(ground_truth_color_map.keys())\n",
    "    \n",
    "#     # loop dir\n",
    "#     for image in range(len(images)) :\n",
    "#         path_and_image = path_to_images + images[image]\n",
    "#         # print(image, path_and_image)\n",
    "#         open_image = Image.open(path_and_image)\n",
    "\n",
    "#         a = inside(open_image, rgb_values)\n",
    "#         print(a)\n",
    "#         break\n",
    "    \n",
    "#     # get size of array for these px\n",
    "    "
   ]
  },
  {
   "cell_type": "code",
   "execution_count": null,
   "id": "6c2b663e-025a-427f-9718-0cec4e23c9cd",
   "metadata": {},
   "outputs": [],
   "source": [
    "# load_images(ground_truth_color_map)"
   ]
  },
  {
   "cell_type": "code",
   "execution_count": null,
   "id": "0cbb6f01-9362-4a74-b8cb-bc62ef9530d2",
   "metadata": {},
   "outputs": [],
   "source": []
  }
 ],
 "metadata": {
  "kernelspec": {
   "display_name": "Python 3 (ipykernel)",
   "language": "python",
   "name": "python3"
  },
  "language_info": {
   "codemirror_mode": {
    "name": "ipython",
    "version": 3
   },
   "file_extension": ".py",
   "mimetype": "text/x-python",
   "name": "python",
   "nbconvert_exporter": "python",
   "pygments_lexer": "ipython3",
   "version": "3.9.7"
  }
 },
 "nbformat": 4,
 "nbformat_minor": 5
}
