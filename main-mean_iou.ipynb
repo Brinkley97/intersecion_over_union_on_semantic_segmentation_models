{
 "cells": [
  {
   "cell_type": "markdown",
   "id": "bbd9c8ac-92a0-4d65-88f5-8b9423c5a053",
   "metadata": {},
   "source": [
    "# Mean IOU for Semantic Segmetation Model\n",
    "- [Brinkley97/PixelLib model GitHub Repo](https://github.com/Brinkley97/sem_seg_pxLib_ade20k/blob/main/ssForImg.ipynb)"
   ]
  },
  {
   "cell_type": "code",
   "execution_count": 89,
   "id": "2f3cbb70-8096-4578-8227-b170d62e72e9",
   "metadata": {},
   "outputs": [],
   "source": [
    "import os, glob\n",
    "import numpy as np\n",
    "import pandas as pd\n",
    "import tensorflow as tf\n",
    "from PIL import Image"
   ]
  },
  {
   "cell_type": "markdown",
   "id": "00b34605-6372-4e93-b835-d76f833db63e",
   "metadata": {},
   "source": [
    "## Load Semantic Segmetation Images\n",
    "- Update method to load multiple images"
   ]
  },
  {
   "cell_type": "code",
   "execution_count": 90,
   "id": "e1a6e5f7-523e-457a-85ca-c53716e17583",
   "metadata": {},
   "outputs": [],
   "source": [
    "base = \"/Users/brinkley97/Documents/development/catalyst_robotics/iou/\"\n",
    "ground_truth_path = base + \"ground_truth_rural_input_images/\"\n",
    "ground_truth_directory = os.listdir(\"ground_truth_rural_input_images/\")"
   ]
  },
  {
   "cell_type": "code",
   "execution_count": 91,
   "id": "9a0869be-167e-4984-bd60-52170a165938",
   "metadata": {},
   "outputs": [],
   "source": [
    "def calc_miou(ground_truth_image, prediction_model_image):\n",
    "    '''Determine the intersection over union when given a ground truth image and prediction model image\n",
    "    \n",
    "    Arguments:\n",
    "    ground_truth_image -- string\n",
    "    prediction_model_image -- string\n",
    "    \n",
    "    Return:\n",
    "    iou\n",
    "    \n",
    "    '''\n",
    "    \n",
    "    # print(ground_truth_image)\n",
    "    # print(prediction_model_image)\n",
    "    \n",
    "    '''\n",
    "    Pre process ground_truth image for MeanIOU\n",
    "    Get RGB to pass into TF MeanIOU function\n",
    "    '''\n",
    "    ground_truth_model_images = []\n",
    "    for open_gt_image in glob.iglob(ground_truth_image):\n",
    "        ground_truth_model_images.append(np.asarray(Image.open(open_gt_image)))\n",
    "        \n",
    "    '''\n",
    "    Pre process prediction_model image for MeanIOU\n",
    "    Get RGB to pass into TF MeanIOU function\n",
    "    '''\n",
    "    prediction_model_images = []\n",
    "    for open_pred_image in glob.iglob(prediction_model_image):\n",
    "        if np.shape(open_pred_image) != np.shape(ground_truth_rgb):\n",
    "            # print(True)\n",
    "            resized_prediction_model_rgb = np.resize(prediction_model_rgb, np.shape(ground_truth_rgb))\n",
    "            # print(\"resized_prediction_model_rgb size:\", np.shape(resized_prediction_model_rgb))\n",
    "            prediction_model_images.append(np.asarray(Image.open(resized_prediction_model_rgb)))\n",
    "        else:\n",
    "            resized_prediction_model_rgb = prediction_model_rgb\n",
    "            prediction_model_images.append(np.asarray(Image.open(open_pred_image)))\n",
    "    \n",
    "    \n",
    "    '''\n",
    "    Compute the mean intersection over union with TF\n",
    "    https://www.tensorflow.org/api_docs/python/tf/keras/metrics/MeanIoU\n",
    "    update_state method: https://github.com/keras-team/keras/blob/v2.10.0/keras/metrics/metrics.py#L2686-L2736\n",
    "    '''\n",
    "    \n",
    "    mean_iou = tf.keras.metrics.MeanIoU(num_classes=25)\n",
    "    # print(mean_iou)\n",
    "    # print(\"prediction_model_rgb size:\", np.shape(prediction_model_rgb), prediction_model_rgb)\n",
    "    # print(\"resized_prediction_model_rgb size:\", np.shape(resized_prediction_model_rgb), resized_prediction_model_rgb)\n",
    "    mean_iou.update_state(prediction_model_images, prediction_model_images)\n",
    "    \n",
    "    return mean_iou.result().numpy()"
   ]
  },
  {
   "cell_type": "code",
   "execution_count": 92,
   "id": "0b2d16d0-503a-4eed-9e8e-a26e6c41bf0d",
   "metadata": {},
   "outputs": [],
   "source": [
    "def compare_two_images(ground_truth_images, prediction_model_images):\n",
    "    '''Pass stored images into the calc_miou function\n",
    "    \n",
    "    Arguments:\n",
    "    stored_images -- dict\n",
    "    \n",
    "    Functions:\n",
    "    calc_miou\n",
    "    \n",
    "    Return:\n",
    "    iou for each set of images -- list\n",
    "    '''\n",
    "\n",
    "    store_iou = []\n",
    "    for key, value in stored_images.items():\n",
    "        \n",
    "        ground_truth_image = key\n",
    "        # print(\"The ground_truth_image is :\", ground_truth_image)\n",
    "        \n",
    "        prediction_model_image = value\n",
    "        # print(\"The prediction_model_image is : \", prediction_model_image)\n",
    "        \n",
    "        i_o_u = calc_miou(ground_truth_image, prediction_model_image)\n",
    "        print(\"The Mean IOU for these two images : \", i_o_u, \"\\n\")\n",
    "        store_iou.append(i_o_u)\n",
    "        \n",
    "    return store_iou"
   ]
  },
  {
   "cell_type": "code",
   "execution_count": 93,
   "id": "f099171a-5eee-471b-8539-5b757cb1b996",
   "metadata": {},
   "outputs": [],
   "source": [
    "def models_to_use(base, ground_truth_path, prediction_model_path, ground_truth_directory, prediction_model_directory):  \n",
    "    '''Set up path to get images\n",
    "    \n",
    "    Arguments:\n",
    "    base -- string\n",
    "    ground_truth_path -- string\n",
    "    prediction_model_path -- string\n",
    "    ground_truth_directory -- list\n",
    "    prediction_model_directory -- list\n",
    "    \n",
    "    Functions:\n",
    "    calc_iou\n",
    "    \n",
    "    Return:\n",
    "    iou for each set of images\n",
    "    \n",
    "    '''\n",
    "    \n",
    "    ground_truth_path += '{0}'\n",
    "    prediction_model_path += '{0}'\n",
    "    \n",
    "    ground_truth_images = [ground_truth_path.format(idx) for idx in ground_truth_directory]\n",
    "    prediction_model_images = [prediction_model_path.format(idx) for idx in prediction_model_directory]\n",
    "    # print(ground_truth_images, '\\n', prediction_model_images)\n",
    "    \n",
    "#    Store ground_truth_images as key and m_seg_images as value\n",
    "    store_images = {}\n",
    "    \n",
    "    \n",
    "    for idx in range(len(ground_truth_images)):\n",
    "        store_images.update({ground_truth_images[idx]: prediction_model_images[idx]})\n",
    "    \n",
    "    m_iou = calc_miou(ground_truth_images, prediction_model_images)\n",
    "    # miou_per_set_of_images = compare_two_images(ground_truth_images, prediction_model_images)\n",
    "    return m_iou"
   ]
  },
  {
   "cell_type": "code",
   "execution_count": 94,
   "id": "742be78b-af63-4558-80c4-0131c810483e",
   "metadata": {},
   "outputs": [
    {
     "ename": "TypeError",
     "evalue": "expected str, bytes or os.PathLike object, not list",
     "output_type": "error",
     "traceback": [
      "\u001b[0;31m---------------------------------------------------------------------------\u001b[0m",
      "\u001b[0;31mTypeError\u001b[0m                                 Traceback (most recent call last)",
      "Input \u001b[0;32mIn [94]\u001b[0m, in \u001b[0;36m<cell line: 4>\u001b[0;34m()\u001b[0m\n\u001b[1;32m      1\u001b[0m m_seg_path \u001b[38;5;241m=\u001b[39m base \u001b[38;5;241m+\u001b[39m \u001b[38;5;124m\"\u001b[39m\u001b[38;5;124mm_seg_rural_input_images/\u001b[39m\u001b[38;5;124m\"\u001b[39m\n\u001b[1;32m      2\u001b[0m m_seg_directory \u001b[38;5;241m=\u001b[39m os\u001b[38;5;241m.\u001b[39mlistdir(\u001b[38;5;124m\"\u001b[39m\u001b[38;5;124mm_seg_rural_input_images/\u001b[39m\u001b[38;5;124m\"\u001b[39m)\n\u001b[0;32m----> 4\u001b[0m iou_with_m_seg \u001b[38;5;241m=\u001b[39m \u001b[43mmodels_to_use\u001b[49m\u001b[43m(\u001b[49m\u001b[43mbase\u001b[49m\u001b[43m,\u001b[49m\u001b[43m \u001b[49m\u001b[43mground_truth_path\u001b[49m\u001b[43m,\u001b[49m\u001b[43m \u001b[49m\u001b[43mm_seg_path\u001b[49m\u001b[43m,\u001b[49m\u001b[43m \u001b[49m\u001b[43mground_truth_directory\u001b[49m\u001b[43m,\u001b[49m\u001b[43m \u001b[49m\u001b[43mm_seg_directory\u001b[49m\u001b[43m)\u001b[49m\n",
      "Input \u001b[0;32mIn [93]\u001b[0m, in \u001b[0;36mmodels_to_use\u001b[0;34m(base, ground_truth_path, prediction_model_path, ground_truth_directory, prediction_model_directory)\u001b[0m\n\u001b[1;32m     30\u001b[0m \u001b[38;5;28;01mfor\u001b[39;00m idx \u001b[38;5;129;01min\u001b[39;00m \u001b[38;5;28mrange\u001b[39m(\u001b[38;5;28mlen\u001b[39m(ground_truth_images)):\n\u001b[1;32m     31\u001b[0m     store_images\u001b[38;5;241m.\u001b[39mupdate({ground_truth_images[idx]: prediction_model_images[idx]})\n\u001b[0;32m---> 33\u001b[0m m_iou \u001b[38;5;241m=\u001b[39m \u001b[43mcalc_miou\u001b[49m\u001b[43m(\u001b[49m\u001b[43mground_truth_images\u001b[49m\u001b[43m,\u001b[49m\u001b[43m \u001b[49m\u001b[43mprediction_model_images\u001b[49m\u001b[43m)\u001b[49m\n\u001b[1;32m     34\u001b[0m \u001b[38;5;66;03m# miou_per_set_of_images = compare_two_images(ground_truth_images, prediction_model_images)\u001b[39;00m\n\u001b[1;32m     35\u001b[0m \u001b[38;5;28;01mreturn\u001b[39;00m m_iou\n",
      "Input \u001b[0;32mIn [91]\u001b[0m, in \u001b[0;36mcalc_miou\u001b[0;34m(ground_truth_image, prediction_model_image)\u001b[0m\n\u001b[1;32m     16\u001b[0m \u001b[38;5;124;03m'''\u001b[39;00m\n\u001b[1;32m     17\u001b[0m \u001b[38;5;124;03mPre process ground_truth image for MeanIOU\u001b[39;00m\n\u001b[1;32m     18\u001b[0m \u001b[38;5;124;03mGet RGB to pass into TF MeanIOU function\u001b[39;00m\n\u001b[1;32m     19\u001b[0m \u001b[38;5;124;03m'''\u001b[39;00m\n\u001b[1;32m     20\u001b[0m ground_truth_model_images \u001b[38;5;241m=\u001b[39m []\n\u001b[0;32m---> 21\u001b[0m \u001b[38;5;28;01mfor\u001b[39;00m open_gt_image \u001b[38;5;129;01min\u001b[39;00m glob\u001b[38;5;241m.\u001b[39miglob(ground_truth_image):\n\u001b[1;32m     22\u001b[0m     ground_truth_model_images\u001b[38;5;241m.\u001b[39mappend(np\u001b[38;5;241m.\u001b[39masarray(Image\u001b[38;5;241m.\u001b[39mopen(open_gt_image)))\n\u001b[1;32m     24\u001b[0m \u001b[38;5;124;03m'''\u001b[39;00m\n\u001b[1;32m     25\u001b[0m \u001b[38;5;124;03mPre process prediction_model image for MeanIOU\u001b[39;00m\n\u001b[1;32m     26\u001b[0m \u001b[38;5;124;03mGet RGB to pass into TF MeanIOU function\u001b[39;00m\n\u001b[1;32m     27\u001b[0m \u001b[38;5;124;03m'''\u001b[39;00m\n",
      "File \u001b[0;32m~/opt/anaconda3/envs/iou/lib/python3.10/glob.py:54\u001b[0m, in \u001b[0;36m_iglob\u001b[0;34m(pathname, root_dir, dir_fd, recursive, dironly)\u001b[0m\n\u001b[1;32m     53\u001b[0m \u001b[38;5;28;01mdef\u001b[39;00m \u001b[38;5;21m_iglob\u001b[39m(pathname, root_dir, dir_fd, recursive, dironly):\n\u001b[0;32m---> 54\u001b[0m     dirname, basename \u001b[38;5;241m=\u001b[39m \u001b[43mos\u001b[49m\u001b[38;5;241;43m.\u001b[39;49m\u001b[43mpath\u001b[49m\u001b[38;5;241;43m.\u001b[39;49m\u001b[43msplit\u001b[49m\u001b[43m(\u001b[49m\u001b[43mpathname\u001b[49m\u001b[43m)\u001b[49m\n\u001b[1;32m     55\u001b[0m     \u001b[38;5;28;01mif\u001b[39;00m \u001b[38;5;129;01mnot\u001b[39;00m has_magic(pathname):\n\u001b[1;32m     56\u001b[0m         \u001b[38;5;28;01massert\u001b[39;00m \u001b[38;5;129;01mnot\u001b[39;00m dironly\n",
      "File \u001b[0;32m~/opt/anaconda3/envs/iou/lib/python3.10/posixpath.py:103\u001b[0m, in \u001b[0;36msplit\u001b[0;34m(p)\u001b[0m\n\u001b[1;32m    100\u001b[0m \u001b[38;5;28;01mdef\u001b[39;00m \u001b[38;5;21msplit\u001b[39m(p):\n\u001b[1;32m    101\u001b[0m     \u001b[38;5;124;03m\"\"\"Split a pathname.  Returns tuple \"(head, tail)\" where \"tail\" is\u001b[39;00m\n\u001b[1;32m    102\u001b[0m \u001b[38;5;124;03m    everything after the final slash.  Either part may be empty.\"\"\"\u001b[39;00m\n\u001b[0;32m--> 103\u001b[0m     p \u001b[38;5;241m=\u001b[39m \u001b[43mos\u001b[49m\u001b[38;5;241;43m.\u001b[39;49m\u001b[43mfspath\u001b[49m\u001b[43m(\u001b[49m\u001b[43mp\u001b[49m\u001b[43m)\u001b[49m\n\u001b[1;32m    104\u001b[0m     sep \u001b[38;5;241m=\u001b[39m _get_sep(p)\n\u001b[1;32m    105\u001b[0m     i \u001b[38;5;241m=\u001b[39m p\u001b[38;5;241m.\u001b[39mrfind(sep) \u001b[38;5;241m+\u001b[39m \u001b[38;5;241m1\u001b[39m\n",
      "\u001b[0;31mTypeError\u001b[0m: expected str, bytes or os.PathLike object, not list"
     ]
    }
   ],
   "source": [
    "m_seg_path = base + \"m_seg_rural_input_images/\"\n",
    "m_seg_directory = os.listdir(\"m_seg_rural_input_images/\")\n",
    "\n",
    "iou_with_m_seg = models_to_use(base, ground_truth_path, m_seg_path, ground_truth_directory, m_seg_directory)"
   ]
  },
  {
   "cell_type": "code",
   "execution_count": null,
   "id": "fdded9dc-9549-43c8-9087-436b08672943",
   "metadata": {},
   "outputs": [],
   "source": [
    "pxlib_path = base + \"pxlib_rural_input_images/\"\n",
    "pxlib_directory = os.listdir(\"pxlib_rural_input_images/\")\n",
    "\n",
    "iou_with_pxlib = models_to_use(base, ground_truth_path, pxlib_path, ground_truth_directory, pxlib_directory)\n",
    "# print(iou_with_pxlib)"
   ]
  },
  {
   "cell_type": "code",
   "execution_count": null,
   "id": "e06540b5-8864-41b6-8791-138bc685985c",
   "metadata": {},
   "outputs": [],
   "source": [
    "def format_models_and_iou(ground_truth_directory, iou_with_m_seg, iou_with_pxlib):\n",
    "    '''Take in models with their mean iou values for each image\n",
    "    \n",
    "    ground_truth_directory -- list\n",
    "    iou_with_m_seg -- list\n",
    "    iou_with_pxlib -- list\n",
    "    \n",
    "    Return:\n",
    "    table comparing iou values -- DataFrame\n",
    "    '''\n",
    "    \n",
    "    ground_truth = \"Ground Truth and \"\n",
    "    m_seg_column = ground_truth + \"M Seg\"\n",
    "    pxlib_column = ground_truth + \"PX Lib\"\n",
    "    \n",
    "    data = {m_seg_column: iou_with_m_seg, pxlib_column: iou_with_pxlib}\n",
    "    create_df = pd.DataFrame(data, index=[ground_truth_directory])\n",
    "    \n",
    "    \n",
    "    return create_df"
   ]
  },
  {
   "cell_type": "code",
   "execution_count": null,
   "id": "e7b8ac4d-be7a-4865-bece-613086628675",
   "metadata": {},
   "outputs": [],
   "source": [
    "format_models_and_iou(ground_truth_directory, iou_with_m_seg, iou_with_pxlib)"
   ]
  },
  {
   "cell_type": "code",
   "execution_count": null,
   "id": "59c807e3-ec27-4ffa-9e95-959db77186ed",
   "metadata": {},
   "outputs": [],
   "source": [
    "# determine best format to input ground truth and predictions (y input)"
   ]
  }
 ],
 "metadata": {
  "kernelspec": {
   "display_name": "Python 3 (ipykernel)",
   "language": "python",
   "name": "python3"
  },
  "language_info": {
   "codemirror_mode": {
    "name": "ipython",
    "version": 3
   },
   "file_extension": ".py",
   "mimetype": "text/x-python",
   "name": "python",
   "nbconvert_exporter": "python",
   "pygments_lexer": "ipython3",
   "version": "3.10.5"
  }
 },
 "nbformat": 4,
 "nbformat_minor": 5
}
